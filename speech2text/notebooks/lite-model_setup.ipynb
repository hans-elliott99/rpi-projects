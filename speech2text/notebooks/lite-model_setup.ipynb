{
 "cells": [
  {
   "cell_type": "code",
   "execution_count": 1,
   "metadata": {},
   "outputs": [],
   "source": [
    "import tensorflow as tf\n",
    "import tensorflow_hub as hub ##for loading full tf model\n",
    "\n",
    "\n",
    "import numpy as np\n",
    "import librosa  \n",
    "import soundfile as sf ##may not be needed\n",
    "import os, json, re\n",
    "from itertools import groupby\n",
    "\n",
    "from scipy.io import wavfile"
   ]
  },
  {
   "cell_type": "code",
   "execution_count": 73,
   "metadata": {},
   "outputs": [],
   "source": [
    "model = '../models/lite-model_ASR_TFLite_pre_trained_models_English_1.tflite'\n",
    "audio = '../test_audio/recording.wav'\n",
    "signal, sr = librosa.load(audio, sr=16000, mono=True)"
   ]
  },
  {
   "cell_type": "code",
   "execution_count": 74,
   "metadata": {},
   "outputs": [
    {
     "name": "stdout",
     "output_type": "stream",
     "text": [
      "\u0000\u0000\u0000\u0000a \u0000\u0000little \u0000there \u0000\u0000i \u0000\u0000am \u0000spe\u0000ak\u0000\u0000ing to \u0000the mi\u0000\u0000cr\u0000\u0000op\u0000\u0000one i \u0000\u0000am \u0000wat\u0000chi\u0000ng \u0000they \u0000\u0000\u0000sto\u0000ck \u0000her mat\u0000ch \u0000a\u0000\u0000\u0000\n"
     ]
    }
   ],
   "source": [
    "interpreter = tf.lite.Interpreter(model_path=model)\n",
    "interpreter.allocate_tensors()\n",
    "\n",
    "input_details = interpreter.get_input_details()\n",
    "output_details = interpreter.get_output_details()\n",
    "\n",
    "interpreter.resize_tensor_input(input_details[0][\"index\"], signal.shape)\n",
    "interpreter.allocate_tensors()\n",
    "interpreter.set_tensor(input_details[0][\"index\"], signal)\n",
    "interpreter.set_tensor(\n",
    "    input_details[1][\"index\"],\n",
    "    np.array(0).astype('int32')\n",
    ")\n",
    "interpreter.set_tensor(\n",
    "    input_details[2][\"index\"],\n",
    "    np.zeros([1,2,1,320]).astype('float32')\n",
    ")\n",
    "interpreter.invoke()\n",
    "hyp = interpreter.get_tensor(output_details[0][\"index\"])\n",
    "\n",
    "print(\"\".join([chr(u) for u in hyp]))"
   ]
  },
  {
   "cell_type": "code",
   "execution_count": 75,
   "metadata": {},
   "outputs": [],
   "source": [
    "class model_to_text:\n",
    "    def __init__(self):\n",
    "        self.create_mappings()\n",
    "\n",
    "    def create_mappings(self):\n",
    "        self.token_to_id_mapping = self._get_vocab() #character to ascii int\n",
    "\n",
    "        self.id_to_token_mapping = {v: k for k, v in self.token_to_id_mapping.items()} #ascii int to character\n",
    "\n",
    "        self.special_tokens = [\"<pad>\"]\n",
    "        self.special_ids = [self.token_to_id_mapping[k] for k in self.special_tokens]\n",
    "\n",
    "    def _get_vocab(self):\n",
    "        alph = [\" \", \"a\", \"b\", \"c\", \"d\", \"e\", \"f\", \"g\", \"h\", \"i\", \"j\", \"k\", \"l\", \"m\", \"n\", \"o\", \"p\", \"q\", \"r\", \"s\", \"t\", \"u\", \"v\", \"w\", \"x\", \"y\", \"z\", \"0\", \"1\", \"2\", \"3\", \"4\", \"5\", \"6\", \"7\", \"8\", \"9\"]\n",
    "        ascii_int = [ord(c) for c in alph] \n",
    "        vocab = {c : i for i,c in zip(ascii_int, alph)} ##token to id mapping\n",
    "        vocab[\"<pad>\"] = 0\n",
    "        return vocab\n",
    "\n",
    "    def decode(self, input_ids: list, skip_special_tokens=True, group_tokens=True):\n",
    "        \"\"\"\n",
    "        Use this method to decode your ids back to string.\n",
    "        Args:\n",
    "            input_ids (:obj: `list`):\n",
    "                input_ids you want to decode to string.\n",
    "            skip_special_tokens (:obj: `bool`, `optional`):\n",
    "                Whether to remove special tokens (like `<pad>`) from string.\n",
    "            group_tokens (:obj: `bool`, `optional`):\n",
    "                Whether to group repeated characters.\n",
    "        \"\"\"\n",
    "        if group_tokens:\n",
    "            input_ids = [t[0] for t in groupby(input_ids)]\n",
    "        if skip_special_tokens:\n",
    "            input_ids = [k for k in input_ids if k not in self.special_ids]\n",
    "        tokens = [self.id_to_token_mapping.get(k, \"<unk>\") for k in input_ids]\n",
    "        tokens = [k if k not in self.special_tokens else \"\" for k in tokens]\n",
    "        return \"\".join(tokens).strip()"
   ]
  },
  {
   "cell_type": "code",
   "execution_count": 76,
   "metadata": {},
   "outputs": [],
   "source": [
    "decoder = model_to_text()"
   ]
  },
  {
   "cell_type": "code",
   "execution_count": 77,
   "metadata": {},
   "outputs": [
    {
     "data": {
      "text/plain": [
       "array([  0,   0,   0,   0,  97,  32,   0,   0, 108, 105, 116, 116, 108,\n",
       "       101,  32,   0, 116, 104, 101, 114, 101,  32,   0,   0, 105,  32,\n",
       "         0,   0,  97, 109,  32,   0, 115, 112, 101,   0,  97, 107,   0,\n",
       "         0, 105, 110, 103,  32, 116, 111,  32,   0, 116, 104, 101,  32,\n",
       "       109, 105,   0,   0,  99, 114,   0,   0, 111, 112,   0,   0, 111,\n",
       "       110, 101,  32, 105,  32,   0,   0,  97, 109,  32,   0, 119,  97,\n",
       "       116,   0,  99, 104, 105,   0, 110, 103,  32,   0, 116, 104, 101,\n",
       "       121,  32,   0,   0,   0, 115, 116, 111,   0,  99, 107,  32,   0,\n",
       "       104, 101, 114,  32, 109,  97, 116,   0,  99, 104,  32,   0,  97,\n",
       "         0,   0,   0])"
      ]
     },
     "execution_count": 77,
     "metadata": {},
     "output_type": "execute_result"
    }
   ],
   "source": [
    "hyp"
   ]
  },
  {
   "cell_type": "code",
   "execution_count": 78,
   "metadata": {},
   "outputs": [
    {
     "data": {
      "text/plain": [
       "'a litle there i am speaking to the micropone i am watching they stock her match a'"
      ]
     },
     "execution_count": 78,
     "metadata": {},
     "output_type": "execute_result"
    }
   ],
   "source": [
    "decoder.decode(hyp.tolist(), skip_special_tokens=False)"
   ]
  }
 ],
 "metadata": {
  "kernelspec": {
   "display_name": "Python 3.10.4 ('.venv': venv)",
   "language": "python",
   "name": "python3"
  },
  "language_info": {
   "codemirror_mode": {
    "name": "ipython",
    "version": 3
   },
   "file_extension": ".py",
   "mimetype": "text/x-python",
   "name": "python",
   "nbconvert_exporter": "python",
   "pygments_lexer": "ipython3",
   "version": "3.10.4"
  },
  "orig_nbformat": 4,
  "vscode": {
   "interpreter": {
    "hash": "68b7c336e82da17fec47fda1173db237956d426c465f0139b547f593f066502d"
   }
  }
 },
 "nbformat": 4,
 "nbformat_minor": 2
}
